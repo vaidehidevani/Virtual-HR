{
 "cells": [
  {
   "cell_type": "code",
   "execution_count": null,
   "id": "8c4c4983",
   "metadata": {},
   "outputs": [],
   "source": [
    "from flask import Flask,render_template,redirect,request,jsonify\n",
    "import warnings\n",
    "warnings.filterwarnings('ignore')\n",
    "\n",
    "#import all the required libraries\n",
    "import speech_recognition as sr\n",
    "import pyttsx3\n",
    "#import pywhatkit\n",
    "import datetime\n",
    "#import pyjokes\n",
    "#import wikipedia\n",
    "import sys\n",
    "import requests, json\n",
    "import time\n",
    "listener = sr.Recognizer()\n",
    "#engine = pyttsx3.init()\n",
    "\n",
    "\n",
    "import re\n",
    "import spacy"
   ]
  },
  {
   "cell_type": "code",
   "execution_count": null,
   "id": "37fc3f7f",
   "metadata": {},
   "outputs": [],
   "source": [
    "# Load the English language model for NER\n",
    "nlp = spacy.load('en_core_web_sm')\n",
    "\n",
    "audio_data_speech = \"\"\n",
    "# Function to extract programming language from text\n",
    "def extract_programming_language(text):\n",
    "    programming_languages = ['python', 'data','java', 'c++', 'javascript','dataanalysis','analysys']  # Add more programming languages as needed\n",
    "    for language in programming_languages:\n",
    "        if re.search(fr'\\b{language}\\b', text, re.IGNORECASE):\n",
    "            return language\n",
    "    return None\n",
    "\n",
    "# Function to extract experience from text\n",
    "def extract_experience(text):\n",
    "    experience_keywords = ['experience', 'background', 'years']  # Add more experience-related keywords as needed\n",
    "    experience = None\n",
    "    doc = nlp(text)\n",
    "    for entity in doc.ents:\n",
    "        if entity.label_ == 'DATE' or any(keyword in entity.text.lower() for keyword in experience_keywords):\n",
    "            experience = entity.text\n",
    "            break\n",
    "    return experience\n"
   ]
  }
 ],
 "metadata": {
  "kernelspec": {
   "display_name": "Python 3 (ipykernel)",
   "language": "python",
   "name": "python3"
  },
  "language_info": {
   "codemirror_mode": {
    "name": "ipython",
    "version": 3
   },
   "file_extension": ".py",
   "mimetype": "text/x-python",
   "name": "python",
   "nbconvert_exporter": "python",
   "pygments_lexer": "ipython3",
   "version": "3.9.12"
  }
 },
 "nbformat": 4,
 "nbformat_minor": 5
}
