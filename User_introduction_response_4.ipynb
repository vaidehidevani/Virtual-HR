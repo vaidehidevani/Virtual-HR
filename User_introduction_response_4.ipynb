{
 "cells": [
  {
   "cell_type": "code",
   "execution_count": null,
   "id": "3bec0546",
   "metadata": {},
   "outputs": [],
   "source": [
    "@app.route('/speech', methods=['POST'])\n",
    "def process_speech():\n",
    "    global audio_data_speech\n",
    "    audio_data = request.data  # Raw audio data sent from the client\n",
    "    # Process the audio data as needed (e.g., save to a file, perform speech-to-text conversion)\n",
    "    # You can also respond with any data back to the client if required\n",
    "    audio_data_speech = str(request.data)\n",
    "    print(\"Audio Data : \",audio_data)\n",
    "    # user_intro = \"Hello, I'm John. I have been programming in Python for the past 5 years.\"\n",
    "    # programming_language = extract_programming_language(str(audio_data))\n",
    "    # experience = extract_experience(str(audio_data))\n",
    "    # if programming_language != None or experience != None:\n",
    "    #     # engine_talk(experience)\n",
    "    #     # engine_talk(programming_language)\n",
    "    #     if programming_language == \"python\" or \"python\" in experience.lower():\n",
    "    #         print(\"User has experience in Python.\")\n",
    "\n",
    "    #         ask_python_questions(audio_data_speech)\n",
    "    #         print(\"User has experience in Python.\",audio_data)\n",
    "    # run_alexa(audio_data)\n",
    "    jsonResp = {'data':f\"{audio_data_speech}\"}\n",
    "    print(jsonResp)\n",
    "    return jsonify(jsonResp)\n",
    "    # return f'{audio_data_speech}'  # Send a response to the client\n"
   ]
  }
 ],
 "metadata": {
  "kernelspec": {
   "display_name": "Python 3 (ipykernel)",
   "language": "python",
   "name": "python3"
  },
  "language_info": {
   "codemirror_mode": {
    "name": "ipython",
    "version": 3
   },
   "file_extension": ".py",
   "mimetype": "text/x-python",
   "name": "python",
   "nbconvert_exporter": "python",
   "pygments_lexer": "ipython3",
   "version": "3.9.12"
  }
 },
 "nbformat": 4,
 "nbformat_minor": 5
}
