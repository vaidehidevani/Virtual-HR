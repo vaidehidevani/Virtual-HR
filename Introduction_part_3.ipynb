{
 "cells": [
  {
   "cell_type": "code",
   "execution_count": null,
   "id": "64596182",
   "metadata": {},
   "outputs": [],
   "source": [
    "def run_alexa(command_speech):\n",
    "    # command = user_commands()\n",
    "    command = str(command_speech)\n",
    "    if 'Alexa' in command:\n",
    "        engine_talk(\"Hey How are you Please tell me about your self.\")\n",
    "    elif 'play' in command:\n",
    "        song = command.replace('play', '')\n",
    "        engine_talk('Playing....' + song)\n",
    "        print(\"Playing....\")\n",
    "        pywhatkit.playonyt(song)\n",
    "    elif 'time' in command:\n",
    "        time = datetime.datetime.now().strftime('%I:%M %p')\n",
    "        print(time)\n",
    "        engine_talk('Current Time is' + time)\n",
    "    elif 'joke' in command:\n",
    "        get_j = pyjokes.get_joke()\n",
    "        print(get_j)\n",
    "        engine_talk(get_j)\n",
    "    elif 'stop' in command:\n",
    "        engine_talk(\"Good bye\")\n",
    "    else:\n",
    "        engine_talk(\"I didn't hear you properly\")\n",
    "        print(\"I didn't hear you properly\")\n",
    "\n",
    "\n",
    "@app.route('/')\n",
    "def hello():\n",
    "    return render_template(\"alexa.html\")\n",
    "\n",
    "@app.route(\"/home\")\n",
    "def home():\n",
    "    return redirect('/')\n",
    "\n",
    "@app.route('/',methods=['POST', 'GET'])\n",
    "def submit():\n",
    "    while True:\n",
    "        run_alexa()\n",
    "    return render_template(\"alexa.html\")"
   ]
  }
 ],
 "metadata": {
  "kernelspec": {
   "display_name": "Python 3 (ipykernel)",
   "language": "python",
   "name": "python3"
  },
  "language_info": {
   "codemirror_mode": {
    "name": "ipython",
    "version": 3
   },
   "file_extension": ".py",
   "mimetype": "text/x-python",
   "name": "python",
   "nbconvert_exporter": "python",
   "pygments_lexer": "ipython3",
   "version": "3.9.12"
  }
 },
 "nbformat": 4,
 "nbformat_minor": 5
}
