{
 "cells": [
  {
   "cell_type": "code",
   "execution_count": null,
   "id": "27c74437",
   "metadata": {},
   "outputs": [],
   "source": [
    "#Invoke the engine before starting interview\n",
    "import os\n",
    "\n",
    "app = Flask(\"__name__\")\n",
    "\n",
    "def engine_talk(text):\n",
    "    engine = pyttsx3.init()\n",
    "    voices = engine.getProperty(\"voices\")\n",
    "    engine.setProperty('voice', voices[1].id)\n",
    "    engine.say(text)\n",
    "    engine.runAndWait()\n",
    "\n",
    "\n",
    "def user_commands():\n",
    "    command = \"play\"\n",
    "    try:\n",
    "        with sr.Microphone() as source:\n",
    "            print(\"Start Speaking!!\")\n",
    "            voice = listener.listen(source)\n",
    "            command = listener.recognize_google(voice)\n",
    "            command = command.lower()\n",
    "            command = command.replace('alexa', '')\n",
    "            if 'alexa' in command:\n",
    "                print(command)\n",
    "    except:\n",
    "        pass\n",
    "    return command"
   ]
  }
 ],
 "metadata": {
  "kernelspec": {
   "display_name": "Python 3 (ipykernel)",
   "language": "python",
   "name": "python3"
  },
  "language_info": {
   "codemirror_mode": {
    "name": "ipython",
    "version": 3
   },
   "file_extension": ".py",
   "mimetype": "text/x-python",
   "name": "python",
   "nbconvert_exporter": "python",
   "pygments_lexer": "ipython3",
   "version": "3.9.12"
  }
 },
 "nbformat": 4,
 "nbformat_minor": 5
}
